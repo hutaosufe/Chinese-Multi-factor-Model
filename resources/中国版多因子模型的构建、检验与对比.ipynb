{
 "cells": [
  {
   "cell_type": "code",
   "execution_count": 1,
   "id": "97b36a13",
   "metadata": {},
   "outputs": [],
   "source": [
    "import pandas as pd\n",
    "import numpy as np\n",
    "from scipy.stats.mstats import winsorize\n",
    "import glob,os\n",
    "import matplotlib.pyplot as plt\n",
    "import matplotlib as mpl\n",
    "import datetime\n",
    "from datetime import timedelta\n",
    "from datetime import datetime\n",
    "import tushare as ts\n",
    "pro = ts.pro_api()"
   ]
  },
  {
   "cell_type": "code",
   "execution_count": 2,
   "id": "0a456be7",
   "metadata": {},
   "outputs": [],
   "source": [
    "#导入股票交易的文件\n",
    "path_1 = r'C:\\Anaconda\\trade_data\\stock_trade'\n",
    "file_1 = glob.glob(os.path.join(path_1, \"TRD_Dalyr**.csv\"))\n",
    "file_list_1 = []\n",
    "for i in file_1:\n",
    "    fd_file = pd.read_csv(i, index_col=None)\n",
    "    #剔除B股、科创板；剔除ST股\n",
    "    fd_file = fd_file.query('Trdsta == 1').query('(Markettype == 1) | (Markettype == 4) | (Markettype == 16)')\n",
    "    file_list_1.append(fd_file)\n",
    "fd_stock_trade = pd.concat(file_list_1)"
   ]
  },
  {
   "cell_type": "code",
   "execution_count": 3,
   "id": "4b2c6ca6",
   "metadata": {},
   "outputs": [],
   "source": [
    "#导入股票指标的文件\n",
    "path_2 = r'C:\\Anaconda\\trade_data\\stock_ysindex'\n",
    "file_2 = glob.glob(os.path.join(path_2, 'STK_MKT_DALYR**.csv'))\n",
    "fd_stock_pb = pd.DataFrame()\n",
    "for i in file_2:\n",
    "    fd_file = pd.read_csv(i,index_col=None)\n",
    "    fd_stock_pb = fd_stock_pb.append(fd_file)\n",
    "#columns重命名\n",
    "fd_stock_pb.rename(columns={'Symbol':'Stkcd','TradingDate':'Trddt'},inplace=True)"
   ]
  },
  {
   "cell_type": "code",
   "execution_count": 4,
   "id": "315877cf",
   "metadata": {},
   "outputs": [],
   "source": [
    "#合并数据\n",
    "fd_info = pd.merge(fd_stock_trade,fd_stock_pb,on=['Stkcd','Trddt'],how = 'inner' ) #取交集\n",
    "fd_info = fd_info.sort_values(['Stkcd','Trddt'])\n",
    "fd_info['Trddt'] = pd.to_datetime(fd_info['Trddt'])"
   ]
  },
  {
   "cell_type": "code",
   "execution_count": 5,
   "id": "52212d12",
   "metadata": {},
   "outputs": [],
   "source": [
    "#对数据进行进一步筛选（次新股、退市公司、缺失值、重复值）\n",
    "basic_data = pro.stock_basic(exchange='', fields='ts_code,symbol,list_status,list_date')\n",
    "basic_data['list_date'] = pd.to_datetime(basic_data['list_date'])\n",
    "basic_data = basic_data.rename(columns={'symbol':'Stkcd'})\n",
    "basic_data['Stkcd'] = basic_data['Stkcd'].astype('int')\n",
    "basic_data.drop_duplicates('Stkcd')\n",
    "fd_new_info = pd.merge(fd_info,basic_data,on = 'Stkcd') #多对一合并\n",
    "#剔除次新股\n",
    "fd_new_info['delta'] = fd_new_info['Trddt'] - fd_new_info['list_date']\n",
    "fd_new_info = fd_new_info[fd_new_info['delta'] > timedelta(120)]\n",
    "#剔除退市公司\n",
    "fd_new_info = fd_new_info.query('(list_status == \"L\")')\n",
    "#剔除缺失值、重复值\n",
    "fd_new_info.dropna()\n",
    "fd_new_info.drop_duplicates(['Stkcd','Trddt'])\n",
    "fd_new_info = fd_new_info.set_index('Trddt',drop=False)"
   ]
  },
  {
   "cell_type": "code",
   "execution_count": null,
   "id": "c4b12fb8",
   "metadata": {},
   "outputs": [],
   "source": [
    "#将数据转换为月度数据，并剔除每月交易少于14天的股票\n",
    "#保留每个月第一天的交易数据（调仓）\n",
    "fd_trade_month = fd_new_info.groupby(fd_new_info['Stkcd']).resample('M').first()\n",
    "#剔除每月交易日少于14天的数据\n",
    "fd_trade_month['count'] = fd_new_info['Trdsta'].groupby(fd_new_info['Stkcd']).resample('M').sum()\n",
    "fd_trade_month = fd_trade_month[fd_trade_month['count'] > 14]\n",
    "#计算每个月的收益\n",
    "fd_new_info['Dretnd'] = fd_new_info['Dretnd'] + 1\n",
    "fd_trade_month['month_return'] = fd_new_info['Dretnd'].groupby(fd_new_info['Stkcd']).resample('M').prod()\n",
    "#计算roa\n",
    "fd_trade_month['ROA'] = fd_trade_month['PB']/fd_trade_month['PE']\n",
    "fd_trade_month['BM'] = 1/fd_trade_month['PB']\n",
    "fd_trade_month['EP'] = 1/fd_trade_month['PE']\n",
    "#生成后续可以使用的月度交易数据\n",
    "fd_trade_month = fd_trade_month[['Stkcd','Dsmvosd','BM','EP','ROA','month_return','ts_code']]\n",
    "fd_trade_month.rename(columns={'Stkcd':\"stock_id\",'Dsmvosd':'MarketValue'},inplace=True)\n",
    "fd_trade_month"
   ]
  },
  {
   "cell_type": "code",
   "execution_count": null,
   "id": "cbf2dc54",
   "metadata": {},
   "outputs": [],
   "source": [
    "#导入市场因子、动量因子、投资因子(直接从CSMAR导入)\n",
    "fd_five = pd.read_csv('C:/Anaconda/trade_data/five_factor/STK_MKT_FIVEFACMONTH.csv', index_col = None)\n",
    "fd_five = fd_five[fd_five['Portfolios']==1]\n",
    "fd_five['TradingMonth'] = pd.to_datetime(fd_five['TradingMonth'])\n",
    "fd_five.rename(columns = {'TradingMonth':'date'},inplace = True)\n",
    "fd_five = fd_five.set_index('date')\n",
    "fd_five = fd_five[datetime(2005,1,1):datetime(2019,12,1)]\n",
    "fd_five = fd_five.resample('M').last() #index转换为最后一天方便匹配\n",
    "\n",
    "fd_dl = pd.read_csv('C:/Anaconda/trade_data/five_factor/STK_MKT_CARHARTFOURFACTORS.csv', index_col = None)\n",
    "fd_dl['TradingMonth'] = pd.to_datetime(fd_dl['TradingMonth'])\n",
    "fd_dl.rename(columns = {'TradingMonth':'date'},inplace = True)\n",
    "fd_dl = fd_dl.set_index('date')\n",
    "fd_dl = fd_dl[datetime(2005,1,1):datetime(2019,12,1)]\n",
    "fd_dl = fd_dl.resample('M').last() #index转换为最后一天方便匹配\n",
    "\n",
    "fd_dl_inv = pd.merge(fd_five,fd_dl,how='inner',on='date')\n",
    "fd_dl_inv = fd_dl_inv[['RiskPremium1','CMA1','UMD1']]\n",
    "fd_dl_inv"
   ]
  },
  {
   "cell_type": "code",
   "execution_count": null,
   "id": "bf8d9fae",
   "metadata": {},
   "outputs": [],
   "source": [
    "#定义计算Liu ，Stambaugh and Yuan（2019）三因子，并使用函数封装\n",
    "def liu3(df_daily):\n",
    "    df_daily['label_sb3'] = pd.qcut(df_daily['MarketValue'],2,['small','large'])\n",
    "    df_daily['label_ep3'] = pd.qcut(df_daily['EP'],[0, 0.3, 0.7, 1.0],['low','mid','high'])\n",
    "    \n",
    "    #市值和EP双重独立排序\n",
    "    small_low3 = df_daily.query('(label_sb3 == \"small\") & (label_ep3 == \"low\")')\n",
    "    small_mid3 = df_daily.query('(label_sb3 == \"small\") & (label_ep3 == \"mid\")')\n",
    "    small_high3 = df_daily.query('(label_sb3 == \"small\") & (label_ep3 == \"high\")')\n",
    "    \n",
    "    large_low3 = df_daily.query('(label_sb3 == \"large\") & (label_ep3 == \"low\")')\n",
    "    large_mid3 = df_daily.query('(label_sb3 == \"large\") & (label_ep3 == \"mid\")')\n",
    "    large_high3 = df_daily.query('(label_sb3 == \"large\") & (label_ep3 == \"high\")')\n",
    "    \n",
    "    r_sl3 = (small_low3['month_return']*small_low3['MarketValue']).sum()/small_low3['MarketValue'].sum()\n",
    "    r_sm3 = (small_mid3['month_return']*small_mid3['MarketValue']).sum()/small_mid3['MarketValue'].sum()\n",
    "    r_sh3 = (small_high3['month_return']*small_high3['MarketValue']).sum()/small_high3['MarketValue'].sum()\n",
    "    \n",
    "    r_ll3 = (large_low3['month_return']*large_low3['MarketValue']).sum()/large_low3['MarketValue'].sum()\n",
    "    r_lm3 = (large_mid3['month_return']*large_mid3['MarketValue']).sum()/large_mid3['MarketValue'].sum()\n",
    "    r_lh3 = (large_high3['month_return']*large_high3['MarketValue']).sum()/large_high3['MarketValue'].sum()\n",
    "    \n",
    "    liu3_smb = (r_sl3+r_sm3+r_sh3-r_ll3-r_lm3-r_lh3)/3\n",
    "    liu3_hml = (r_lh3+r_sh3-r_ll3-r_sl3)/2\n",
    "    \n",
    "    return liu3_smb,liu3_hml"
   ]
  },
  {
   "cell_type": "code",
   "execution_count": null,
   "id": "47dc11f3",
   "metadata": {},
   "outputs": [],
   "source": [
    "#定义计算Liu，Shi and Lian（2019）四因子，并使用函数封装\n",
    "def liu4(df_daily):\n",
    "    df_daily['label_sb4'] = pd.qcut(df_daily['MarketValue'],2,['small','large'])\n",
    "    df_daily['label_bm4'] = pd.qcut(df_daily['BM'],[0, 0.3, 0.7, 1.0],['low','mid','high'])\n",
    "    df_daily['label_roa4'] = pd.qcut(df_daily['ROA'],[0, 0.3, 0.7, 1.0],['rlow','rmid','rhigh'])\n",
    "    \n",
    "    #市值和BM双重排序\n",
    "    small_low4 = df_daily.query('(label_sb4 == \"small\") & (label_bm4 == \"low\")')\n",
    "    small_mid4 = df_daily.query('(label_sb4 == \"small\") & (label_bm4 == \"mid\")')\n",
    "    small_high4 = df_daily.query('(label_sb4 == \"small\") & (label_bm4 == \"high\")')\n",
    "    \n",
    "    large_low4 = df_daily.query('(label_sb4 == \"large\") & (label_bm4 == \"low\")')\n",
    "    large_mid4 = df_daily.query('(label_sb4 == \"large\") & (label_bm4 == \"mid\")')\n",
    "    large_high4 = df_daily.query('(label_sb4 == \"large\") & (label_bm4 == \"high\")')\n",
    "    \n",
    "    r_sl4 = (small_low4['month_return']*small_low4['MarketValue']).sum()/small_low4['MarketValue'].sum()\n",
    "    r_sm4 = (small_mid4['month_return']*small_mid4['MarketValue']).sum()/small_mid4['MarketValue'].sum()\n",
    "    r_sh4 = (small_high4['month_return']*small_high4['MarketValue']).sum()/small_high4['MarketValue'].sum()\n",
    "    \n",
    "    r_ll4 = (large_low4['month_return']*large_low4['MarketValue']).sum()/large_low4['MarketValue'].sum()\n",
    "    r_lm4 = (large_mid4['month_return']*large_mid4['MarketValue']).sum()/large_mid4['MarketValue'].sum()\n",
    "    r_lh4 = (large_high4['month_return']*large_high4['MarketValue']).sum()/large_high4['MarketValue'].sum()\n",
    "    \n",
    "    #市值和ROA双重排序\n",
    "    small_rlow4 = df_daily.query('(label_sb4 == \"small\") & (label_roa4 == \"rlow\")')\n",
    "    small_rmid4 = df_daily.query('(label_sb4 == \"small\") & (label_roa4 == \"rmid\")')\n",
    "    small_rhigh4 = df_daily.query('(label_sb4 == \"small\") & (label_roa4 == \"rhigh\")')\n",
    "    \n",
    "    large_rlow4 = df_daily.query('(label_sb4 == \"large\") & (label_roa4 == \"rlow\")')\n",
    "    large_rmid4 = df_daily.query('(label_sb4 == \"large\") & (label_roa4 == \"rmid\")')\n",
    "    large_rhigh4 = df_daily.query('(label_sb4 == \"large\") & (label_roa4 == \"rhigh\")')\n",
    "    \n",
    "    r_srl4 = (small_rlow4['month_return']*small_rlow4['MarketValue']).sum()/small_rlow4['MarketValue'].sum()\n",
    "    r_srm4 = (small_rmid4['month_return']*small_rmid4['MarketValue']).sum()/small_rmid4['MarketValue'].sum()\n",
    "    r_srh4 = (small_rhigh4['month_return']*small_rhigh4['MarketValue']).sum()/small_rhigh4['MarketValue'].sum()\n",
    "    \n",
    "    r_lrl4 = (large_rlow4['month_return']*large_rlow4['MarketValue']).sum()/large_rlow4['MarketValue'].sum()\n",
    "    r_lrm4 = (large_rmid4['month_return']*large_rmid4['MarketValue']).sum()/large_rmid4['MarketValue'].sum()\n",
    "    r_lrh4 = (large_rhigh4['month_return']*large_rhigh4['MarketValue']).sum()/large_rhigh4['MarketValue'].sum()    \n",
    "    \n",
    "    #计算因子收益\n",
    "    liu4_smb_one = (r_sl4+r_sm4+r_sh4-r_ll4-r_lm4-r_lh4)/3 \n",
    "    liu4_smb_two = (r_srl4+r_srm4+r_srh4-r_lrl4-r_lrm4-r_lrh4)/3\n",
    "    liu4_smb = ( (r_sl4+r_sm4+r_sh4-r_ll4-r_lm4-r_lh4)/3 + (r_srl4+r_srm4+r_srh4-r_lrl4-r_lrm4-r_lrh4)/3 ) /2\n",
    "    liu4_hml = (r_lh4+r_sh4-r_ll4-r_sl4)/2\n",
    "    liu4_rmw = (r_lrh4+r_srh4-r_lrl4-r_srl4)/2\n",
    "    \n",
    "    return liu4_smb,liu4_hml,liu4_rmw"
   ]
  },
  {
   "cell_type": "code",
   "execution_count": null,
   "id": "72269733",
   "metadata": {},
   "outputs": [],
   "source": [
    "#计算Liu ，Stambaugh and Yuan（2019）三因子\n",
    "liu3_data = []\n",
    "for date,group in fd_trade_month.groupby('Trddt'):\n",
    "    liu3_smb, liu3_hml = liu3(group)\n",
    "    liu3_data.append([date, liu3_smb, liu3_hml])"
   ]
  },
  {
   "cell_type": "code",
   "execution_count": null,
   "id": "096ee9fa",
   "metadata": {},
   "outputs": [],
   "source": [
    "#计算Liu，Shi and Lian（2019）四因子\n",
    "liu4_data = []\n",
    "for date,group in fd_trade_month.groupby('Trddt'):\n",
    "    liu4_smb, liu4_hml, liu4_rmw = liu4(group)\n",
    "    liu4_data.append([date, liu4_smb, liu4_hml, liu4_rmw])"
   ]
  },
  {
   "cell_type": "code",
   "execution_count": null,
   "id": "25493ca9",
   "metadata": {},
   "outputs": [],
   "source": [
    "df_liu3 = pd.DataFrame(np.array(liu3_data),columns=['date','liu3_smb', 'liu3_hml'])\n",
    "df_liu4 = pd.DataFrame(np.array(liu4_data),columns = ['date', 'liu4_smb', 'liu4_hml', 'liu4_rmw'])\n",
    "df_factor = pd.merge(df_liu3,df_liu4,how='inner',on='date')\n",
    "df_factor = df_factor.set_index(df_factor['date'])\n",
    "del df_factor['date']\n",
    "df_factor"
   ]
  },
  {
   "cell_type": "code",
   "execution_count": null,
   "id": "77ce8196",
   "metadata": {},
   "outputs": [],
   "source": [
    "#画出因子的累计收益率\n",
    "fig = plt.figure(figsize=(10,6))\n",
    "ax1 = fig.add_subplot(2,2,1)\n",
    "ax1.plot((df_factor['liu3_smb']+1).cumprod())\n",
    "ax1.set_xlabel('SMB')\n",
    "ax2 = fig.add_subplot(2,2,2)\n",
    "ax2.plot((df_factor['liu3_hml']+1).cumprod())\n",
    "ax2.set_xlabel('HML(EP)')\n",
    "ax3 = fig.add_subplot(2,2,3)\n",
    "ax3.plot((df_factor['liu4_hml']+1).cumprod())\n",
    "ax3.set_xlabel('HML(BM)')\n",
    "ax4 = fig.add_subplot(2,2,4)\n",
    "ax4.plot((df_factor['liu4_rmw']+1).cumprod())\n",
    "ax4.set_xlabel('RMW')\n",
    "plt.subplots_adjust(wspace=0.2,hspace=0.3)\n",
    "plt.show()"
   ]
  },
  {
   "cell_type": "code",
   "execution_count": null,
   "id": "630a8f28",
   "metadata": {},
   "outputs": [],
   "source": [
    "#调用科学计算包\n",
    "import statsmodels.api as sm\n",
    "import statsmodels.formula.api as smf\n",
    "#使用异象检验Liu ，Stambaugh and Yuan（2019）三因子模型效率(以投资和动量为例)\n",
    "df_test = pd.merge(df_factor,fd_dl_inv,how='inner',on='date')\n",
    "df_test = df_test.astype(float) #将所有数据类型转换为浮点型\n",
    "np.seterr(divide='ignore',invalid='ignore')#去除不可逆矩阵\n",
    "winsorize(df_test.all(),limits=[0.01, 0.01]) #对所有列进行上下1%的缩尾处理\n",
    "result_one = smf.ols(formula = 'CMA1 ~  RiskPremium1 + liu3_smb + liu3_hml', data=df_test).fit()\n",
    "result_one.summary()"
   ]
  },
  {
   "cell_type": "code",
   "execution_count": null,
   "id": "080ff8c3",
   "metadata": {},
   "outputs": [],
   "source": [
    "result_two = smf.ols(formula = 'UMD1 ~  RiskPremium1 + liu3_smb + liu3_hml', data=df_test).fit()\n",
    "result_two.summary()"
   ]
  },
  {
   "cell_type": "code",
   "execution_count": null,
   "id": "929fd0cb",
   "metadata": {},
   "outputs": [],
   "source": [
    "#使用异象检验Liu，Shi and Lian（2019）四因子模型效率(以投资和动量为例)\n",
    "model_three = sm.OLS(df_test['CMA1'], sm.add_constant(\n",
    "        df_test[['RiskPremium1','liu4_smb','liu4_hml','liu4_rmw']].values))\n",
    "result_three = model_three.fit()\n",
    "print(result_three.summary())"
   ]
  },
  {
   "cell_type": "code",
   "execution_count": null,
   "id": "46288cda",
   "metadata": {},
   "outputs": [],
   "source": [
    "model_four = sm.OLS(df_test['UMD1'], sm.add_constant(\n",
    "        df_test[['RiskPremium1','liu4_smb','liu4_hml','liu4_rmw']].values))\n",
    "result_four = model_four.fit()\n",
    "print(result_four.summary())"
   ]
  },
  {
   "cell_type": "code",
   "execution_count": null,
   "id": "ec1ab859",
   "metadata": {},
   "outputs": [],
   "source": [
    "#画出因子的累计收益率\n",
    "fig = plt.figure(figsize=(15,6))\n",
    "ax5 = fig.add_subplot(1,2,1)\n",
    "ax5.plot((df_test['UMD1']+1).cumprod())\n",
    "ax5.set_xlabel('UMD1')\n",
    "ax6 = fig.add_subplot(1,2,2)\n",
    "ax6.plot((df_test['CMA1']+1).cumprod())\n",
    "ax6.set_xlabel('CMA1')"
   ]
  },
  {
   "cell_type": "code",
   "execution_count": null,
   "id": "3053140c",
   "metadata": {},
   "outputs": [],
   "source": [
    "#模型之间的对比（GRS检验）\n",
    "#先使用liu3_smb和liu3_hml作为测试资产\n",
    "#计算残差待用\n",
    "result_liu3_smb = smf.ols(formula = 'liu3_smb ~ RiskPremium1 + liu4_smb + liu4_hml + liu4_rmw' ,data = df_test).fit()\n",
    "result_liu3_hml = smf.ols(formula = 'liu3_hml ~ RiskPremium1 + liu4_smb + liu4_hml + liu4_rmw' ,data = df_test).fit()\n",
    "res_liu3 = np.array([result_liu3_smb.resid.values , result_liu3_hml.resid.values])#将两个数组在列上合并\n",
    "res_liu3 = res_liu3.T #转置获得T*2的数组\n",
    "alpha3 = np.array([[result_liu3_smb.params[0]],[result_liu3_hml.params[0]]]) #获得2*1的定价误差数组\n",
    "factor3 = np.array([df_test['RiskPremium1'].values ,df_test['liu4_smb'].values,df_test['liu4_hml'].values,df_test['liu4_rmw'].values])\n",
    "factor3 = factor3.T"
   ]
  },
  {
   "cell_type": "code",
   "execution_count": null,
   "id": "839c55ba",
   "metadata": {},
   "outputs": [],
   "source": [
    "#调用线性代数相关包\n",
    "import scipy\n",
    "from numpy.linalg import inv\n",
    "def GRS(alpha, resids, factor):\n",
    "    # GRS test statistic\n",
    "    # N个待检验资产组合, L个因子, and T 时间周期\n",
    "    # alpha是定价误差，Nx1的数组\n",
    "    # resids回归的残差，TxN的数组\n",
    "    # factor是因子收益率，TxL的数组\n",
    "    T, N = resids.shape\n",
    "    L = factor.shape[1]\n",
    "    factor_mean = np.nanmean(factor, axis=0)\n",
    "    cov_resids = np.matmul(resids.T, resids) / (T-L-1)\n",
    "    cov_fac = np.matmul(np.array(factor - np.nanmean(factor, axis=0)).T, np.array(factor - np.nanmean(factor, axis=0))) / T-1\n",
    "    GRS = (T / N) * ((T - N - L) / (T - L - 1)) * ((np.matmul(np.matmul(alpha.T, inv(cov_resids)), alpha)) / (1 + (np.matmul(np.matmul(factor_mean.T, inv(cov_fac)), factor_mean))))\n",
    "    pVal = 1 - scipy.stats.f.cdf(GRS, N, T - N - L) #需引用F分布“scipy.stats.f”\n",
    "    return GRS, pVal"
   ]
  },
  {
   "cell_type": "code",
   "execution_count": null,
   "id": "b90415ac",
   "metadata": {},
   "outputs": [],
   "source": [
    "GRS_liu3 , Pval_liu3 = GRS(alpha3, res_liu3, factor3)\n",
    "Pval_liu3"
   ]
  },
  {
   "cell_type": "code",
   "execution_count": null,
   "id": "df549364",
   "metadata": {},
   "outputs": [],
   "source": [
    "#再使用liu4_smb、liu4_hml和liu4_rmw作为测试资产\n",
    "result_liu4_smb = smf.ols(formula = 'liu4_smb ~ RiskPremium1 + liu3_smb + liu3_hml' ,data = df_test).fit()\n",
    "result_liu4_hml = smf.ols(formula = 'liu4_hml ~ RiskPremium1 + liu3_smb + liu3_hml' ,data = df_test).fit()\n",
    "result_liu4_rmw = smf.ols(formula = 'liu4_rmw ~ RiskPremium1 + liu3_smb + liu3_hml' ,data = df_test).fit()\n",
    "res_liu4 = np.array([result_liu4_smb.resid.values , result_liu4_hml.resid.values , result_liu4_rmw.resid.values])#将两个数组在列上合并\n",
    "res_liu4 = res_liu4.T #转置获得T*2的数组\n",
    "alpha4 = np.array([[result_liu4_smb.params[0]],[result_liu4_hml.params[0]],[result_liu4_rmw.params[0]]]) #获得2*1的定价误差数组\n",
    "factor4 = np.array([df_test['liu4_smb'].values,df_test['liu4_hml'].values,df_test['liu4_rmw'].values])\n",
    "factor4 = factor4.T"
   ]
  },
  {
   "cell_type": "code",
   "execution_count": null,
   "id": "c74f45f3",
   "metadata": {},
   "outputs": [],
   "source": [
    "GRS_liu4 , Pval_liu4 = GRS(alpha4, res_liu4, factor4)\n",
    "Pval_liu4"
   ]
  },
  {
   "cell_type": "code",
   "execution_count": null,
   "id": "a6aecd8b",
   "metadata": {},
   "outputs": [],
   "source": []
  },
  {
   "cell_type": "code",
   "execution_count": null,
   "id": "65fc428e",
   "metadata": {},
   "outputs": [],
   "source": []
  },
  {
   "cell_type": "code",
   "execution_count": null,
   "id": "ab2dded1",
   "metadata": {},
   "outputs": [],
   "source": []
  },
  {
   "cell_type": "code",
   "execution_count": null,
   "id": "5258d25c",
   "metadata": {},
   "outputs": [],
   "source": []
  }
 ],
 "metadata": {
  "kernelspec": {
   "display_name": "Python 3 (ipykernel)",
   "language": "python",
   "name": "python3"
  },
  "language_info": {
   "codemirror_mode": {
    "name": "ipython",
    "version": 3
   },
   "file_extension": ".py",
   "mimetype": "text/x-python",
   "name": "python",
   "nbconvert_exporter": "python",
   "pygments_lexer": "ipython3",
   "version": "3.9.7"
  }
 },
 "nbformat": 4,
 "nbformat_minor": 5
}
